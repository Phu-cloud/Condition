{
  "cells": [
    {
      "cell_type": "markdown",
      "metadata": {
        "id": "view-in-github",
        "colab_type": "text"
      },
      "source": [
        "<a href=\"https://colab.research.google.com/github/Phu-cloud/Condition/blob/main/4_Problems/1_07_Conditional%20Statements.ipynb\" target=\"_parent\"><img src=\"https://colab.research.google.com/assets/colab-badge.svg\" alt=\"Open In Colab\"/></a>"
      ]
    },
    {
      "cell_type": "markdown",
      "id": "e3327670",
      "metadata": {
        "id": "e3327670"
      },
      "source": [
        "<a target=\"_blank\" href=\"https://colab.research.google.com/github/lukebarousse/Python_Data_Analytics_Course/blob/main/4_Problems/1_07_Conditional Statements.ipynb\">\n",
        "  <img src=\"https://colab.research.google.com/assets/colab-badge.svg\" alt=\"Open In Colab\"/>\n",
        "</a>"
      ]
    },
    {
      "cell_type": "markdown",
      "id": "2aaa1761",
      "metadata": {
        "id": "2aaa1761"
      },
      "source": [
        "## 🟩 Determine Python Experience (1.7.1)"
      ]
    },
    {
      "cell_type": "code",
      "execution_count": 1,
      "id": "9eaa2dc1",
      "metadata": {
        "id": "9eaa2dc1"
      },
      "outputs": [],
      "source": [
        "# Code Needed\n",
        "python_experience = 3"
      ]
    },
    {
      "cell_type": "code",
      "source": [
        "if python_experience < 2:\n",
        "  print('Job Title:   Beginner')\n",
        "elif python_experience >= 2:\n",
        "  print('Job Title:   Intermediate')"
      ],
      "metadata": {
        "id": "R1TAvFWr0ia6",
        "outputId": "22f14c9e-481b-4aff-addf-8ca9abfec8e4",
        "colab": {
          "base_uri": "https://localhost:8080/"
        }
      },
      "id": "R1TAvFWr0ia6",
      "execution_count": 3,
      "outputs": [
        {
          "output_type": "stream",
          "name": "stdout",
          "text": [
            "Job Title:   Intermediate\n"
          ]
        }
      ]
    },
    {
      "cell_type": "code",
      "source": [
        "if python_experience < 2:\n",
        "  job_title = 'Job Title:   Beginner'\n",
        "elif python_experience >= 2:\n",
        "  job_title = 'Job Title:   Intermediate'\n",
        "\n",
        "print(job_title)"
      ],
      "metadata": {
        "id": "rTKjNULd1ZHH",
        "outputId": "f81e9f59-2de3-4ee7-a1a7-170d411fd239",
        "colab": {
          "base_uri": "https://localhost:8080/"
        }
      },
      "id": "rTKjNULd1ZHH",
      "execution_count": 5,
      "outputs": [
        {
          "output_type": "stream",
          "name": "stdout",
          "text": [
            "Job Title:   Intermediate\n"
          ]
        }
      ]
    },
    {
      "cell_type": "markdown",
      "id": "e5985de7",
      "metadata": {
        "id": "e5985de7"
      },
      "source": [
        "---"
      ]
    },
    {
      "cell_type": "markdown",
      "id": "1d103802",
      "metadata": {
        "id": "1d103802"
      },
      "source": [
        "## 🟨 Determine Job Skill Level (1.7.2)"
      ]
    },
    {
      "cell_type": "code",
      "execution_count": 16,
      "id": "bb543cdd",
      "metadata": {
        "id": "bb543cdd"
      },
      "outputs": [],
      "source": [
        "# Code Needed\n",
        "tools_known = 3"
      ]
    },
    {
      "cell_type": "code",
      "source": [
        "# 0-1 tools is 'Beginner'\n",
        "# 2-4 tools is 'Intermediate'\n",
        "# More than 4 tools is 'Advanced'"
      ],
      "metadata": {
        "id": "RgIG2axu1535"
      },
      "id": "RgIG2axu1535",
      "execution_count": null,
      "outputs": []
    },
    {
      "cell_type": "code",
      "source": [
        "if tools_known >= 0 and tools_known <= 1:\n",
        "  print('Job Skill Level:   Beginner')\n",
        "elif tools_known >= 2 and tools_known <= 4:\n",
        "  print('Job Skill Level:   Intermediate')\n",
        "elif tools_known > 4:\n",
        "  print('Job Skill Level:   Advanced')"
      ],
      "metadata": {
        "id": "zZ0E18XE19Ow",
        "outputId": "7bb5d0b8-5f54-4ec9-a6aa-7305c0899d94",
        "colab": {
          "base_uri": "https://localhost:8080/"
        }
      },
      "id": "zZ0E18XE19Ow",
      "execution_count": 17,
      "outputs": [
        {
          "output_type": "stream",
          "name": "stdout",
          "text": [
            "Job Skill Level:   Intermediate\n"
          ]
        }
      ]
    },
    {
      "cell_type": "code",
      "source": [
        "def check(x):\n",
        "  if x % 2 == 0:\n",
        "    return print('Even')\n",
        "  else:\n",
        "    return print('Odd')"
      ],
      "metadata": {
        "id": "1U3osBWm2-wF"
      },
      "id": "1U3osBWm2-wF",
      "execution_count": 19,
      "outputs": []
    },
    {
      "cell_type": "code",
      "source": [
        "check(7)"
      ],
      "metadata": {
        "id": "8c7iWjKb3hRh",
        "outputId": "a9668a28-4ccc-43e2-a9e0-af4b3cab73a6",
        "colab": {
          "base_uri": "https://localhost:8080/"
        }
      },
      "id": "8c7iWjKb3hRh",
      "execution_count": 21,
      "outputs": [
        {
          "output_type": "stream",
          "name": "stdout",
          "text": [
            "Odd\n"
          ]
        }
      ]
    },
    {
      "cell_type": "code",
      "source": [],
      "metadata": {
        "id": "JN_TQY3H5g57"
      },
      "id": "JN_TQY3H5g57",
      "execution_count": null,
      "outputs": []
    },
    {
      "cell_type": "code",
      "source": [
        "def contains(title, KW):\n",
        "  return KW in title\n",
        "\n",
        "title = 'Data Sci'\n",
        "KW = 'Data'\n",
        "contains(title, KW)"
      ],
      "metadata": {
        "id": "QAY-Zeyt5gtF",
        "outputId": "7fed1c99-900a-4220-9ad3-9611ccae5e16",
        "colab": {
          "base_uri": "https://localhost:8080/"
        }
      },
      "id": "QAY-Zeyt5gtF",
      "execution_count": 22,
      "outputs": [
        {
          "output_type": "execute_result",
          "data": {
            "text/plain": [
              "True"
            ]
          },
          "metadata": {},
          "execution_count": 22
        }
      ]
    },
    {
      "cell_type": "markdown",
      "id": "fdf0324b",
      "metadata": {
        "id": "fdf0324b"
      },
      "source": [
        "---"
      ]
    },
    {
      "cell_type": "markdown",
      "id": "847f3e27",
      "metadata": {
        "id": "847f3e27"
      },
      "source": [
        "## 🟥 Determine Job Title (1.7.3)"
      ]
    },
    {
      "cell_type": "code",
      "execution_count": null,
      "id": "f73925e8",
      "metadata": {
        "id": "f73925e8"
      },
      "outputs": [],
      "source": [
        "# Code Needed\n",
        "job_experience = 4\n",
        "sql_experience = 2"
      ]
    },
    {
      "cell_type": "markdown",
      "id": "5a5189c6",
      "metadata": {
        "id": "5a5189c6"
      },
      "source": [
        "---"
      ]
    },
    {
      "cell_type": "code",
      "source": [
        "is_blacklisted = False\n",
        "if not is_blacklisted:\n",
        " print(\"Welcome, customer!\")\n",
        "else:\n",
        " print(\"Access denied\")"
      ],
      "metadata": {
        "id": "o-zF_TrX9yyf",
        "outputId": "e1f05ef8-a45e-4c04-d629-9cef87082daf",
        "colab": {
          "base_uri": "https://localhost:8080/"
        }
      },
      "id": "o-zF_TrX9yyf",
      "execution_count": 24,
      "outputs": [
        {
          "output_type": "stream",
          "name": "stdout",
          "text": [
            "Welcome, customer!\n"
          ]
        }
      ]
    },
    {
      "cell_type": "code",
      "source": [
        "income = 60000\n",
        "credit_score = 690\n",
        "if income > 50000:\n",
        "  if credit_score > 700:\n",
        "    print(\"Loan Approved \")\n",
        "  else:\n",
        "    print(\"Loan Denied \")"
      ],
      "metadata": {
        "id": "QAVZBw1n9zZ0",
        "outputId": "ac928e33-010c-4a40-9912-c095331fca28",
        "colab": {
          "base_uri": "https://localhost:8080/"
        }
      },
      "id": "QAVZBw1n9zZ0",
      "execution_count": 37,
      "outputs": [
        {
          "output_type": "stream",
          "name": "stdout",
          "text": [
            "Loan Denied \n"
          ]
        }
      ]
    },
    {
      "cell_type": "code",
      "source": [
        "income = 60000\n",
        "credit_score = 690\n",
        "if income > 50000 and credit_score > 700:\n",
        " print(\"Loan Approved \")\n",
        "else:\n",
        " print(\"Loan Denied \")\n"
      ],
      "metadata": {
        "id": "EQ9rPFOK-Kfs",
        "outputId": "39333699-bedb-416a-fbc4-524afb88f60c",
        "colab": {
          "base_uri": "https://localhost:8080/"
        }
      },
      "id": "EQ9rPFOK-Kfs",
      "execution_count": 34,
      "outputs": [
        {
          "output_type": "stream",
          "name": "stdout",
          "text": [
            "Loan Denied \n"
          ]
        }
      ]
    },
    {
      "cell_type": "code",
      "source": [
        "amount = 20\n",
        "member = True\n",
        "if amount > 100:\n",
        "\n",
        " if member:\n",
        "  print(\"20% discount + free shipping\")\n",
        " else:\n",
        "  print(\"20% discount only\")\n",
        "\n",
        "else:\n",
        " print(\"No big spender discount\")"
      ],
      "metadata": {
        "id": "IrWKKRuf-0VE",
        "outputId": "081b0bf4-9329-478d-cd7b-bbbce47b8888",
        "colab": {
          "base_uri": "https://localhost:8080/"
        }
      },
      "id": "IrWKKRuf-0VE",
      "execution_count": 42,
      "outputs": [
        {
          "output_type": "stream",
          "name": "stdout",
          "text": [
            "No big spender discount\n"
          ]
        }
      ]
    },
    {
      "cell_type": "code",
      "source": [
        "def grade(x):\n",
        "  if x >= 85:\n",
        "    return 'A'\n",
        "  elif x >= 80:\n",
        "    return 'B+'\n",
        "  elif x >= 75:\n",
        "    return 'B'\n",
        "  elif x >= 70:\n",
        "    return 'C+'\n",
        "  elif x >= 60:\n",
        "    return 'C'\n",
        "  elif x >= 55:\n",
        "    return 'D+'\n",
        "  elif x >= 50:\n",
        "    return 'D'\n",
        "  else:\n",
        "    return 'F'"
      ],
      "metadata": {
        "id": "JwpHD8ri_o6N"
      },
      "id": "JwpHD8ri_o6N",
      "execution_count": 53,
      "outputs": []
    },
    {
      "cell_type": "code",
      "source": [
        "grade(60)"
      ],
      "metadata": {
        "id": "zu5mY0HEAc9e",
        "outputId": "1dd64a6e-f679-4aca-8d6b-fe2db608c1b5",
        "colab": {
          "base_uri": "https://localhost:8080/",
          "height": 36
        }
      },
      "id": "zu5mY0HEAc9e",
      "execution_count": 55,
      "outputs": [
        {
          "output_type": "execute_result",
          "data": {
            "text/plain": [
              "'D'"
            ],
            "application/vnd.google.colaboratory.intrinsic+json": {
              "type": "string"
            }
          },
          "metadata": {},
          "execution_count": 55
        }
      ]
    },
    {
      "cell_type": "code",
      "source": [
        "amt = 1275000.758\n",
        "print(f\"amount = {amt:,}\") # 1,275,000.758\n",
        "print(f\"amount = {amt:,.0f}\") # 1,275,001\n",
        "print(f\"amount = {amt:,.2f}\") # 1,275,00.76"
      ],
      "metadata": {
        "id": "OzAhX-6gAeXx",
        "outputId": "7922c1fe-5f83-41b1-c0a1-c2d111b9f0b3",
        "colab": {
          "base_uri": "https://localhost:8080/"
        }
      },
      "id": "OzAhX-6gAeXx",
      "execution_count": 56,
      "outputs": [
        {
          "output_type": "stream",
          "name": "stdout",
          "text": [
            "amount = 1,275,000.758\n",
            "amount = 1,275,001\n",
            "amount = 1,275,000.76\n"
          ]
        }
      ]
    },
    {
      "cell_type": "code",
      "source": [
        "f\"{amt:,.2f}\""
      ],
      "metadata": {
        "id": "_aORQoIwDOKS",
        "outputId": "5a54841d-4e63-4e9d-f9b7-97bc575d197a",
        "colab": {
          "base_uri": "https://localhost:8080/",
          "height": 36
        }
      },
      "id": "_aORQoIwDOKS",
      "execution_count": 63,
      "outputs": [
        {
          "output_type": "execute_result",
          "data": {
            "text/plain": [
              "'1,275,000.76'"
            ],
            "application/vnd.google.colaboratory.intrinsic+json": {
              "type": "string"
            }
          },
          "metadata": {},
          "execution_count": 63
        }
      ]
    },
    {
      "cell_type": "code",
      "source": [
        "amt = 1275000.758\n",
        "print(f\"amount = {amt:,}\") # 1,275,000.758\n",
        "print(f\"amount = {amt:,.0f}\") # 1,275,001\n",
        "print(f\"amount = {amt:,.2f}\") # 1,275,00.76"
      ],
      "metadata": {
        "id": "yLpL0moqDx5i",
        "outputId": "fbb95a0a-f0ae-4816-a340-d9551ccc5958",
        "colab": {
          "base_uri": "https://localhost:8080/"
        }
      },
      "id": "yLpL0moqDx5i",
      "execution_count": 64,
      "outputs": [
        {
          "output_type": "stream",
          "name": "stdout",
          "text": [
            "amount = 1,275,000.758\n",
            "amount = 1,275,001\n",
            "amount = 1,275,000.76\n"
          ]
        }
      ]
    },
    {
      "cell_type": "code",
      "source": [
        "# 10. Remove whitespace (strip)\n",
        "t = \" rainbow \"\n",
        "print(t.strip()) # \"rainbow\""
      ],
      "metadata": {
        "id": "nPpXsSxNEVDb",
        "outputId": "eaf8c453-a786-4531-f4b5-f55625c874b1",
        "colab": {
          "base_uri": "https://localhost:8080/"
        }
      },
      "id": "nPpXsSxNEVDb",
      "execution_count": 65,
      "outputs": [
        {
          "output_type": "stream",
          "name": "stdout",
          "text": [
            "rainbow\n"
          ]
        }
      ]
    },
    {
      "cell_type": "code",
      "source": [
        "text = 'rainbow'\n",
        "\n",
        "print(f\"text[0] -> {text[0]}\") # result: r\n",
        "print(f\"text[1] -> {text[1]}\") # result: a\n",
        "print(f\"text[-1] -> {text[-1]}\") # result: w\n",
        "print(f\"text[0:4] -> {text[0:4]}\") # result: rain\n",
        "print(f\"text[4:] -> {text[4:]}\") # result: bow\n",
        "print(f\"text[-3:] -> {text[-3:]}\") # result: bow\n",
        "print(f\"text[::-1] -> {text[::-1]}\") # reverse string"
      ],
      "metadata": {
        "id": "owzgfJIjFQ3R",
        "outputId": "8b712c35-da14-43a1-b55e-8d4b7dbe349c",
        "colab": {
          "base_uri": "https://localhost:8080/"
        }
      },
      "id": "owzgfJIjFQ3R",
      "execution_count": 67,
      "outputs": [
        {
          "output_type": "stream",
          "name": "stdout",
          "text": [
            "text[0] -> r\n",
            "text[1] -> a\n",
            "text[-1] -> w\n",
            "text[0:4] -> rain\n",
            "text[4:] -> bow\n",
            "text[-3:] -> bow\n",
            "text[::-1] -> wobniar\n"
          ]
        }
      ]
    },
    {
      "cell_type": "code",
      "source": [
        "print(text[:-3])"
      ],
      "metadata": {
        "id": "cejWuAvZFrAj",
        "outputId": "c489545c-0d43-426c-9ff7-30055071149a",
        "colab": {
          "base_uri": "https://localhost:8080/"
        }
      },
      "id": "cejWuAvZFrAj",
      "execution_count": 72,
      "outputs": [
        {
          "output_type": "stream",
          "name": "stdout",
          "text": [
            "rain\n"
          ]
        }
      ]
    },
    {
      "cell_type": "code",
      "source": [
        "exp_date = \"20Sep2025\" # ddMMMyyyy\n",
        "print(len(exp_date))"
      ],
      "metadata": {
        "id": "Z9Hx6-pSF3Av",
        "outputId": "28597ba6-3c69-4ea2-9efe-3cbf98359c17",
        "colab": {
          "base_uri": "https://localhost:8080/"
        }
      },
      "id": "Z9Hx6-pSF3Av",
      "execution_count": 74,
      "outputs": [
        {
          "output_type": "stream",
          "name": "stdout",
          "text": [
            "9\n"
          ]
        }
      ]
    },
    {
      "cell_type": "code",
      "source": [
        "day = exp_date[:2]\n",
        "print(day+ month)\n",
        "\n",
        "month = exp_date[2:5]\n",
        "print(month)\n",
        "year = exp_date[5:]\n",
        "print(year)"
      ],
      "metadata": {
        "id": "4eZc5zaHGhC5",
        "outputId": "a3951c37-6313-4290-9fca-0199674cf43f",
        "colab": {
          "base_uri": "https://localhost:8080/"
        }
      },
      "id": "4eZc5zaHGhC5",
      "execution_count": 80,
      "outputs": [
        {
          "output_type": "stream",
          "name": "stdout",
          "text": [
            "20Sep\n",
            "Sep\n",
            "2025\n"
          ]
        }
      ]
    },
    {
      "cell_type": "code",
      "source": [
        "n = 691234567\n",
        "type(n)"
      ],
      "metadata": {
        "id": "bGlmoNZMGoqz",
        "outputId": "da7a5421-043d-48d3-eb55-3f12f97d2634",
        "colab": {
          "base_uri": "https://localhost:8080/"
        }
      },
      "id": "bGlmoNZMGoqz",
      "execution_count": 88,
      "outputs": [
        {
          "output_type": "execute_result",
          "data": {
            "text/plain": [
              "int"
            ]
          },
          "metadata": {},
          "execution_count": 88
        }
      ]
    },
    {
      "cell_type": "code",
      "source": [],
      "metadata": {
        "id": "seK8zNZCHYu_"
      },
      "id": "seK8zNZCHYu_",
      "execution_count": null,
      "outputs": []
    }
  ],
  "metadata": {
    "colab": {
      "provenance": [],
      "include_colab_link": true
    },
    "language_info": {
      "name": "python"
    },
    "kernelspec": {
      "name": "python3",
      "display_name": "Python 3"
    }
  },
  "nbformat": 4,
  "nbformat_minor": 5
}